{
 "cells": [
  {
   "cell_type": "code",
   "execution_count": 1,
   "metadata": {},
   "outputs": [
    {
     "name": "stderr",
     "output_type": "stream",
     "text": [
      "Using TensorFlow backend.\n"
     ]
    }
   ],
   "source": [
    "import os\n",
    "import numpy as np\n",
    "import keras\n",
    "from keras.models import Sequential\n",
    "from keras.layers import Activation, Dropout, Flatten, Dense\n",
    "from keras.preprocessing.image import ImageDataGenerator\n",
    "from keras.layers import Convolution2D, MaxPooling2D, ZeroPadding2D\n",
    "from keras import optimizers\n",
    "import scipy.ndimage\n"
   ]
  },
  {
   "cell_type": "code",
   "execution_count": 2,
   "metadata": {
    "collapsed": true
   },
   "outputs": [],
   "source": [
    "img_width, img_height = 100, 100\n",
    "\n",
    "train_data_dir = 'new_dataset/Dataset/train'\n",
    "test_data_dir = 'new_dataset/Dataset/test'\n",
    "test_data_path = 'new_dataset/Dataset/final'"
   ]
  },
  {
   "cell_type": "code",
   "execution_count": 3,
   "metadata": {},
   "outputs": [
    {
     "name": "stderr",
     "output_type": "stream",
     "text": [
      "C:\\Users\\Noah\\Anaconda3\\envs\\tensorflow\\lib\\site-packages\\ipykernel\\__main__.py:3: UserWarning: Update your `Conv2D` call to the Keras 2 API: `Conv2D(32, (3, 3), input_shape=(100, 100,...)`\n",
      "  app.launch_new_instance()\n",
      "C:\\Users\\Noah\\Anaconda3\\envs\\tensorflow\\lib\\site-packages\\ipykernel\\__main__.py:7: UserWarning: Update your `Conv2D` call to the Keras 2 API: `Conv2D(32, (3, 3))`\n",
      "C:\\Users\\Noah\\Anaconda3\\envs\\tensorflow\\lib\\site-packages\\ipykernel\\__main__.py:14: UserWarning: Update your `Dense` call to the Keras 2 API: `Dense(activation=\"relu\", units=120)`\n",
      "C:\\Users\\Noah\\Anaconda3\\envs\\tensorflow\\lib\\site-packages\\ipykernel\\__main__.py:17: UserWarning: Update your `Dense` call to the Keras 2 API: `Dense(activation=<function ..., units=23)`\n"
     ]
    }
   ],
   "source": [
    "\n",
    "model = Sequential()\n",
    "model.add(Convolution2D(32, 3, 3, input_shape=(img_width, img_height,3)))\n",
    "model.add(Activation('relu'))\n",
    "model.add(MaxPooling2D(pool_size=(2, 2)))\n",
    "\n",
    "model.add(Convolution2D(32, 3, 3))\n",
    "model.add(Activation('relu'))\n",
    "model.add(MaxPooling2D(pool_size=(2, 2)))\n",
    "\n",
    "\n",
    "model.add(Flatten())\n",
    "#full connection\n",
    "model.add(Dense(output_dim=120,activation='relu'))\n",
    "\n",
    "import tensorflow as tf\n",
    "model.add(Dense(output_dim=23,activation=tf.nn.softmax))\n",
    "\n",
    "#sgd = keras.optimizers.SGD(lr=0.3)\n",
    "\n",
    "model.compile(loss='binary_crossentropy',\n",
    "              optimizer='rmsprop',\n",
    "              metrics=['accuracy'])\n"
   ]
  },
  {
   "cell_type": "code",
   "execution_count": 10,
   "metadata": {
    "collapsed": true
   },
   "outputs": [],
   "source": [
    "datagen = ImageDataGenerator(rescale=1./255)\n",
    "#augmentation  \n",
    "train_datagen_augmented = ImageDataGenerator(\n",
    "        rescale=1./255,        # normalize pixel values to [0,1]\n",
    "        shear_range=0.2,       # randomly applies shearing transformation\n",
    "        zoom_range=0.2,        # randomly applies shearing transformation\n",
    "        horizontal_flip=True)  # randomly flip the images\n"
   ]
  },
  {
   "cell_type": "code",
   "execution_count": 6,
   "metadata": {},
   "outputs": [
    {
     "name": "stdout",
     "output_type": "stream",
     "text": [
      "Found 16641 images belonging to 23 classes.\n",
      "Found 4002 images belonging to 23 classes.\n"
     ]
    }
   ],
   "source": [
    "train_generator_augmented = train_datagen_augmented.flow_from_directory(\n",
    "        train_data_dir,\n",
    "        target_size=(img_width, img_height),\n",
    "        batch_size=32,\n",
    "        class_mode='categorical')\n",
    "\n",
    "test_generator = datagen.flow_from_directory(\n",
    "        test_data_dir,\n",
    "        target_size=(img_width, img_height),\n",
    "        batch_size=32,\n",
    "       class_mode='categorical')"
   ]
  },
  {
   "cell_type": "code",
   "execution_count": 7,
   "metadata": {
    "collapsed": true
   },
   "outputs": [],
   "source": [
    "nb_epoch =20\n",
    "nb_train_samples = 14057\n",
    "nb_test_samples = 4002"
   ]
  },
  {
   "cell_type": "code",
   "execution_count": 9,
   "metadata": {},
   "outputs": [
    {
     "name": "stderr",
     "output_type": "stream",
     "text": [
      "C:\\Users\\Noah\\Anaconda3\\envs\\tensorflow\\lib\\site-packages\\ipykernel\\__main__.py:6: UserWarning: The semantics of the Keras 2 argument `steps_per_epoch` is not the same as the Keras 1 argument `samples_per_epoch`. `steps_per_epoch` is the number of batches to draw from the generator at each epoch. Basically steps_per_epoch = samples_per_epoch/batch_size. Similarly `nb_val_samples`->`validation_steps` and `val_samples`->`steps` arguments have changed. Update your method calls accordingly.\n",
      "C:\\Users\\Noah\\Anaconda3\\envs\\tensorflow\\lib\\site-packages\\ipykernel\\__main__.py:6: UserWarning: Update your `fit_generator` call to the Keras 2 API: `fit_generator(<keras.pre..., validation_data=<keras.pre..., validation_steps=4002, epochs=20, steps_per_epoch=439)`\n"
     ]
    },
    {
     "name": "stdout",
     "output_type": "stream",
     "text": [
      "Epoch 1/20\n",
      "439/439 [==============================] - 2857s - loss: 0.1649 - acc: 0.9569 - val_loss: 0.1622 - val_acc: 0.9569\n",
      "Epoch 2/20\n",
      "439/439 [==============================] - 2338s - loss: 0.1580 - acc: 0.9572 - val_loss: 0.1597 - val_acc: 0.9570\n",
      "Epoch 3/20\n",
      "439/439 [==============================] - 2332s - loss: 0.1535 - acc: 0.9577 - val_loss: 0.1540 - val_acc: 0.9576\n",
      "Epoch 4/20\n",
      "439/439 [==============================] - 2321s - loss: 0.1506 - acc: 0.9580 - val_loss: 0.1539 - val_acc: 0.9575\n",
      "Epoch 5/20\n",
      "439/439 [==============================] - 2328s - loss: 0.1469 - acc: 0.9583 - val_loss: 0.1506 - val_acc: 0.9578\n",
      "Epoch 6/20\n",
      "439/439 [==============================] - 2329s - loss: 0.1458 - acc: 0.9584 - val_loss: 0.1514 - val_acc: 0.9578\n",
      "Epoch 7/20\n",
      "439/439 [==============================] - 2329s - loss: 0.1428 - acc: 0.9587 - val_loss: 0.1517 - val_acc: 0.9576\n",
      "Epoch 8/20\n",
      "439/439 [==============================] - 2302s - loss: 0.1418 - acc: 0.9589 - val_loss: 0.1497 - val_acc: 0.9582\n",
      "Epoch 9/20\n",
      "439/439 [==============================] - 2311s - loss: 0.1392 - acc: 0.9592 - val_loss: 0.1480 - val_acc: 0.9582\n",
      "Epoch 10/20\n",
      "439/439 [==============================] - 2312s - loss: 0.1380 - acc: 0.9593 - val_loss: 0.1486 - val_acc: 0.9585\n",
      "Epoch 11/20\n",
      "439/439 [==============================] - 2318s - loss: 0.1364 - acc: 0.9597 - val_loss: 0.1583 - val_acc: 0.9560\n",
      "Epoch 12/20\n",
      "439/439 [==============================] - 2320s - loss: 0.1357 - acc: 0.9597 - val_loss: 0.1504 - val_acc: 0.9583\n",
      "Epoch 13/20\n",
      "439/439 [==============================] - 2314s - loss: 0.1340 - acc: 0.9600 - val_loss: 0.1494 - val_acc: 0.9583\n",
      "Epoch 14/20\n",
      "439/439 [==============================] - 2309s - loss: 0.1328 - acc: 0.9602 - val_loss: 0.1512 - val_acc: 0.9581\n",
      "Epoch 15/20\n",
      "439/439 [==============================] - 2433s - loss: 0.1320 - acc: 0.9606 - val_loss: 0.1492 - val_acc: 0.9579\n",
      "Epoch 16/20\n",
      "439/439 [==============================] - 2276s - loss: 0.1313 - acc: 0.9607 - val_loss: 0.1474 - val_acc: 0.9582\n",
      "Epoch 17/20\n",
      "439/439 [==============================] - 2251s - loss: 0.1301 - acc: 0.9610 - val_loss: 0.1501 - val_acc: 0.9580\n",
      "Epoch 18/20\n",
      "439/439 [==============================] - 2303s - loss: 0.1285 - acc: 0.9611 - val_loss: 0.1487 - val_acc: 0.9584\n",
      "Epoch 19/20\n",
      "439/439 [==============================] - 2293s - loss: 0.1280 - acc: 0.9611 - val_loss: 0.1495 - val_acc: 0.9581\n",
      "Epoch 20/20\n",
      "439/439 [==============================] - 2217s - loss: 0.1281 - acc: 0.9612 - val_loss: 0.1514 - val_acc: 0.9581\n"
     ]
    }
   ],
   "source": [
    "history=model.fit_generator(\n",
    "        train_generator_augmented,\n",
    "        samples_per_epoch=nb_train_samples,\n",
    "        nb_epoch=nb_epoch,\n",
    "        validation_data=test_generator,\n",
    "        nb_val_samples=nb_test_samples)"
   ]
  },
  {
   "cell_type": "code",
   "execution_count": 11,
   "metadata": {
    "collapsed": true
   },
   "outputs": [],
   "source": [
    "model.save('models/jupyter_model.h5')\n",
    "#model.save_weights('models/basic_cnn_20_epochs_96.h5')\n"
   ]
  },
  {
   "cell_type": "code",
   "execution_count": 12,
   "metadata": {},
   "outputs": [
    {
     "data": {
      "image/png": "[encoded data removed]",
      "text/plain": [
       "<Figure size 432x288 with 1 Axes>"
      ]
     },
     "metadata": {},
     "output_type": "display_data"
    },
    {
     "data": {
      "image/png": "[encoded data removed]",
      "text/plain": [
       "<Figure size 432x288 with 1 Axes>"
      ]
     },
     "metadata": {},
     "output_type": "display_data"
    }
   ],
   "source": [
    "import matplotlib.pyplot as plt\n",
    "acc = history.history['acc']\n",
    "val_acc = history.history['val_acc']\n",
    "loss = history.history['loss']\n",
    "val_loss = history.history['val_loss']\n",
    "epochs = range(1, len(acc) + 1)\n",
    "plt.plot(epochs, acc, 'bo', label='Training acc')\n",
    "plt.plot(epochs, val_acc, 'b', label='Validation acc')\n",
    "plt.title('Training and validation accuracy')\n",
    "plt.legend()\n",
    "\n",
    "plt.figure()\n",
    "plt.plot(epochs, loss, 'bo', label='Training loss')\n",
    "plt.plot(epochs, val_loss, 'b', label='Validation loss')\n",
    "plt.title('Training and validation loss')\n",
    "plt.legend()\n",
    "plt.show()\n"
   ]
  },
  {
   "cell_type": "code",
   "execution_count": null,
   "metadata": {
    "collapsed": true
   },
   "outputs": [],
   "source": []
  }
 ],
 "metadata": {
  "kernelspec": {
   "display_name": "Python 3",
   "language": "python",
   "name": "python3"
  },
  "language_info": {
   "codemirror_mode": {
    "name": "ipython",
    "version": 3
   },
   "file_extension": ".py",
   "mimetype": "text/x-python",
   "name": "python",
   "nbconvert_exporter": "python",
   "pygments_lexer": "ipython3",
   "version": "3.5.3"
  }
 },
 "nbformat": 4,
 "nbformat_minor": 2
}
