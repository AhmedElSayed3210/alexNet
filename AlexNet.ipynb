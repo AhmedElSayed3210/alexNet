{
 "cells": [
  {
   "cell_type": "code",
   "execution_count": 3,
   "metadata": {},
   "outputs": [
    {
     "name": "stderr",
     "output_type": "stream",
     "text": [
      "Using TensorFlow backend.\n"
     ]
    }
   ],
   "source": [
    "# (1) Importing dependency\n",
    "import keras\n",
    "from keras.models import Sequential\n",
    "from keras.layers import Dense, Activation, Dropout, Flatten, Conv2D, MaxPooling2D\n",
    "from keras.layers.normalization import BatchNormalization\n",
    "from keras.callbacks import EarlyStopping, ModelCheckpoint, ReduceLROnPlateau\n",
    "import numpy as np\n",
    "np.random.seed(1000)"
   ]
  },
  {
   "cell_type": "markdown",
   "metadata": {},
   "source": [
    "# AlexNet Architecture"
   ]
  },
  {
   "cell_type": "code",
   "execution_count": 2,
   "metadata": {},
   "outputs": [
    {
     "name": "stdout",
     "output_type": "stream",
     "text": [
      "_________________________________________________________________\n",
      "Layer (type)                 Output Shape              Param #   \n",
      "=================================================================\n",
      "conv2d_1 (Conv2D)            (None, 54, 54, 96)        34944     \n",
      "_________________________________________________________________\n",
      "activation_1 (Activation)    (None, 54, 54, 96)        0         \n",
      "_________________________________________________________________\n",
      "max_pooling2d_1 (MaxPooling2 (None, 27, 27, 96)        0         \n",
      "_________________________________________________________________\n",
      "batch_normalization_1 (Batch (None, 27, 27, 96)        384       \n",
      "_________________________________________________________________\n",
      "conv2d_2 (Conv2D)            (None, 17, 17, 256)       2973952   \n",
      "_________________________________________________________________\n",
      "activation_2 (Activation)    (None, 17, 17, 256)       0         \n",
      "_________________________________________________________________\n",
      "max_pooling2d_2 (MaxPooling2 (None, 8, 8, 256)         0         \n",
      "_________________________________________________________________\n",
      "batch_normalization_2 (Batch (None, 8, 8, 256)         1024      \n",
      "_________________________________________________________________\n",
      "conv2d_3 (Conv2D)            (None, 6, 6, 384)         885120    \n",
      "_________________________________________________________________\n",
      "activation_3 (Activation)    (None, 6, 6, 384)         0         \n",
      "_________________________________________________________________\n",
      "batch_normalization_3 (Batch (None, 6, 6, 384)         1536      \n",
      "_________________________________________________________________\n",
      "conv2d_4 (Conv2D)            (None, 4, 4, 384)         1327488   \n",
      "_________________________________________________________________\n",
      "activation_4 (Activation)    (None, 4, 4, 384)         0         \n",
      "_________________________________________________________________\n",
      "batch_normalization_4 (Batch (None, 4, 4, 384)         1536      \n",
      "_________________________________________________________________\n",
      "conv2d_5 (Conv2D)            (None, 2, 2, 256)         884992    \n",
      "_________________________________________________________________\n",
      "activation_5 (Activation)    (None, 2, 2, 256)         0         \n",
      "_________________________________________________________________\n",
      "max_pooling2d_3 (MaxPooling2 (None, 1, 1, 256)         0         \n",
      "_________________________________________________________________\n",
      "batch_normalization_5 (Batch (None, 1, 1, 256)         1024      \n",
      "_________________________________________________________________\n",
      "flatten_1 (Flatten)          (None, 256)               0         \n",
      "_________________________________________________________________\n",
      "dense_1 (Dense)              (None, 4096)              1052672   \n",
      "_________________________________________________________________\n",
      "activation_6 (Activation)    (None, 4096)              0         \n",
      "_________________________________________________________________\n",
      "dropout_1 (Dropout)          (None, 4096)              0         \n",
      "_________________________________________________________________\n",
      "batch_normalization_6 (Batch (None, 4096)              16384     \n",
      "_________________________________________________________________\n",
      "dense_2 (Dense)              (None, 4096)              16781312  \n",
      "_________________________________________________________________\n",
      "activation_7 (Activation)    (None, 4096)              0         \n",
      "_________________________________________________________________\n",
      "dropout_2 (Dropout)          (None, 4096)              0         \n",
      "_________________________________________________________________\n",
      "batch_normalization_7 (Batch (None, 4096)              16384     \n",
      "_________________________________________________________________\n",
      "dense_3 (Dense)              (None, 1000)              4097000   \n",
      "_________________________________________________________________\n",
      "activation_8 (Activation)    (None, 1000)              0         \n",
      "_________________________________________________________________\n",
      "dropout_3 (Dropout)          (None, 1000)              0         \n",
      "_________________________________________________________________\n",
      "batch_normalization_8 (Batch (None, 1000)              4000      \n",
      "_________________________________________________________________\n",
      "dense_4 (Dense)              (None, 23)                23023     \n",
      "_________________________________________________________________\n",
      "activation_9 (Activation)    (None, 23)                0         \n",
      "=================================================================\n",
      "Total params: 28,102,775\n",
      "Trainable params: 28,081,639\n",
      "Non-trainable params: 21,136\n",
      "_________________________________________________________________\n"
     ]
    }
   ],
   "source": [
    "# Create a sequential model\n",
    "model = Sequential()\n",
    "\n",
    "# 1st Convolutional Layer\n",
    "model.add(Conv2D(filters=96, input_shape=(224,224,3), kernel_size=(11,11),\\\n",
    " strides=(4,4), padding='valid'))\n",
    "model.add(Activation('relu'))\n",
    "# Pooling \n",
    "model.add(MaxPooling2D(pool_size=(2,2), strides=(2,2), padding='valid'))\n",
    "# Batch Normalisation before passing it to the next layer\n",
    "model.add(BatchNormalization())\n",
    "\n",
    "# 2nd Convolutional Layer\n",
    "model.add(Conv2D(filters=256, kernel_size=(11,11), strides=(1,1), padding='valid'))\n",
    "model.add(Activation('relu'))\n",
    "# Pooling\n",
    "model.add(MaxPooling2D(pool_size=(2,2), strides=(2,2), padding='valid'))\n",
    "# Batch Normalisation\n",
    "model.add(BatchNormalization())\n",
    "\n",
    "# 3rd Convolutional Layer\n",
    "model.add(Conv2D(filters=384, kernel_size=(3,3), strides=(1,1), padding='valid'))\n",
    "model.add(Activation('relu'))\n",
    "# Batch Normalisation\n",
    "model.add(BatchNormalization())\n",
    "\n",
    "# 4th Convolutional Layer\n",
    "model.add(Conv2D(filters=384, kernel_size=(3,3), strides=(1,1), padding='valid'))\n",
    "model.add(Activation('relu'))\n",
    "# Batch Normalisation\n",
    "model.add(BatchNormalization())\n",
    "\n",
    "# 5th Convolutional Layer\n",
    "model.add(Conv2D(filters=256, kernel_size=(3,3), strides=(1,1), padding='valid'))\n",
    "model.add(Activation('relu'))\n",
    "# Pooling\n",
    "model.add(MaxPooling2D(pool_size=(2,2), strides=(2,2), padding='valid'))\n",
    "# Batch Normalisation\n",
    "model.add(BatchNormalization())\n",
    "\n",
    "# Passing it to a dense layer\n",
    "model.add(Flatten())\n",
    "# 1st Dense Layer\n",
    "model.add(Dense(4096, input_shape=(224*224*3,)))\n",
    "model.add(Activation('relu'))\n",
    "# Add Dropout to prevent overfitting\n",
    "model.add(Dropout(0.4))\n",
    "# Batch Normalisation\n",
    "model.add(BatchNormalization())\n",
    "\n",
    "# 2nd Dense Layer\n",
    "model.add(Dense(4096))\n",
    "model.add(Activation('relu'))\n",
    "# Add Dropout\n",
    "model.add(Dropout(0.4))\n",
    "# Batch Normalisation\n",
    "model.add(BatchNormalization())\n",
    "\n",
    "# 3rd Dense Layer\n",
    "model.add(Dense(1000))\n",
    "model.add(Activation('relu'))\n",
    "# Add Dropout\n",
    "model.add(Dropout(0.4))\n",
    "# Batch Normalisation\n",
    "model.add(BatchNormalization())\n",
    "\n",
    "# Output Layer\n",
    "model.add(Dense(23))\n",
    "model.add(Activation('softmax'))\n",
    "\n",
    "model.summary()"
   ]
  },
  {
   "cell_type": "code",
   "execution_count": 4,
   "metadata": {},
   "outputs": [],
   "source": [
    "train_dir = 'Dataset/train'\n",
    "test_dir = 'Dataset/final'\n",
    "validation_dir = 'Dataset/test'\n",
    "small_test_dir = 'Dataset/small'"
   ]
  },
  {
   "cell_type": "code",
   "execution_count": 5,
   "metadata": {},
   "outputs": [],
   "source": [
    "from keras.preprocessing.image import ImageDataGenerator\n",
    "\n",
    "train_datagen = ImageDataGenerator(\n",
    "                    rescale=1./255,\n",
    "                    rotation_range=40,\n",
    "                    width_shift_range=0.2,\n",
    "                    height_shift_range=0.2,\n",
    "                    shear_range=0.2,\n",
    "                    zoom_range=0.2,\n",
    "                    horizontal_flip=True)"
   ]
  },
  {
   "cell_type": "code",
   "execution_count": 6,
   "metadata": {},
   "outputs": [
    {
     "name": "stdout",
     "output_type": "stream",
     "text": [
      "Found 35247 images belonging to 23 classes.\n",
      "Found 8679 images belonging to 23 classes.\n",
      "Found 1150 images belonging to 23 classes.\n",
      "Found 441 images belonging to 23 classes.\n"
     ]
    }
   ],
   "source": [
    "test_datagen = ImageDataGenerator(rescale=1./255)\n",
    "\n",
    "train_generator = train_datagen.flow_from_directory(\n",
    "                    train_dir,\n",
    "                    target_size=(224, 224),\n",
    "                    batch_size=32,\n",
    "                    class_mode='categorical')\n",
    "\n",
    "validation_generator = test_datagen.flow_from_directory(\n",
    "                        validation_dir,\n",
    "                        target_size=(224, 224),\n",
    "                        batch_size=32,\n",
    "                        class_mode='categorical')\n",
    "datagen = ImageDataGenerator(rescale=1./255)\n",
    "test=datagen.flow_from_directory(\n",
    "        test_dir,\n",
    "        target_size=(224, 224),\n",
    "        batch_size=32,\n",
    "       class_mode='categorical')"
   ]
  },
  {
   "cell_type": "code",
   "execution_count": 7,
   "metadata": {},
   "outputs": [],
   "source": [
    "\n",
    "from keras import optimizers\n",
    "sgd = optimizers.SGD(lr=0.5, decay=1e-6, momentum=0.9, nesterov=True)\n",
    "model.compile(loss='binary_crossentropy', optimizer=sgd,\n",
    "                  metrics=['accuracy'])"
   ]
  },
  {
   "cell_type": "code",
   "execution_count": 8,
   "metadata": {},
   "outputs": [],
   "source": [
    "earlyStopping = EarlyStopping(monitor='val_loss', patience=20, verbose=0,\n",
    "                                  mode='min')\n",
    "\n",
    "\n",
    "ckpt = ModelCheckpoint('alexNet_model.hdf5', save_best_only=True,\n",
    "                           monitor='val_loss', mode='min')\n",
    "reduce_lr_loss = ReduceLROnPlateau(monitor='val_loss', factor=0.1,\n",
    "                                       patience=7, verbose=1, epsilon=1e-4,\n",
    "                                       mode='min')"
   ]
  },
  {
   "cell_type": "code",
   "execution_count": null,
   "metadata": {},
   "outputs": [
    {
     "name": "stdout",
     "output_type": "stream",
     "text": [
      "Epoch 1/50\n",
      "  3/100 [..............................] - ETA: 1240s - loss: 0.2109 - acc: 0.9511"
     ]
    }
   ],
   "source": [
    "history = model.fit_generator(\n",
    "                train_generator,\n",
    "                steps_per_epoch=100,\n",
    "                epochs=50,\n",
    "                callbacks=[earlyStopping, ckpt, reduce_lr_loss],\n",
    "                validation_data=validation_generator,\n",
    "                validation_steps=50)"
   ]
  },
  {
   "cell_type": "code",
   "execution_count": 12,
   "metadata": {},
   "outputs": [
    {
     "data": {
      "image/png": "[encoded data removed]",
      "text/plain": [
       "<Figure size 432x288 with 1 Axes>"
      ]
     },
     "metadata": {},
     "output_type": "display_data"
    },
    {
     "data": {
      "image/png": "[encoded data removed]",
      "text/plain": [
       "<Figure size 432x288 with 1 Axes>"
      ]
     },
     "metadata": {},
     "output_type": "display_data"
    }
   ],
   "source": [
    "import matplotlib.pyplot as plt\n",
    "acc = history.history['acc']\n",
    "val_acc = history.history['val_acc']\n",
    "loss = history.history['loss']\n",
    "val_loss = history.history['val_loss']\n",
    "epochs = range(1, len(acc) + 1)\n",
    "plt.plot(epochs, acc, 'bo', label='Training acc')\n",
    "plt.plot(epochs, val_acc, 'b', label='Validation acc')\n",
    "plt.title('Training and validation accuracy')\n",
    "plt.legend()\n",
    "\n",
    "plt.figure()\n",
    "plt.plot(epochs, loss, 'bo', label='Training loss')\n",
    "plt.plot(epochs, val_loss, 'b', label='Validation loss')\n",
    "plt.title('Training and validation loss')\n",
    "plt.legend()\n",
    "plt.show()"
   ]
  },
  {
   "cell_type": "code",
   "execution_count": 15,
   "metadata": {},
   "outputs": [
    {
     "name": "stdout",
     "output_type": "stream",
     "text": [
      "Found 1150 images belonging to 23 classes.\n"
     ]
    }
   ],
   "source": [
    "\n",
    "final=datagen.flow_from_directory(\n",
    "        test_dir,\n",
    "        target_size=(224, 224),\n",
    "        batch_size=16,\n",
    "       class_mode='categorical')"
   ]
  },
  {
   "cell_type": "code",
   "execution_count": 16,
   "metadata": {},
   "outputs": [],
   "source": [
    "#test model accurcy in new images \n",
    "test_accuracy=model.evaluate_generator(final,1150)"
   ]
  },
  {
   "cell_type": "code",
   "execution_count": 17,
   "metadata": {},
   "outputs": [
    {
     "name": "stdout",
     "output_type": "stream",
     "text": [
      "Accuracy =  95.7241254996267\n"
     ]
    }
   ],
   "source": [
    "print(\"Accuracy = \", test_accuracy[1]*100)"
   ]
  },
  {
   "cell_type": "code",
   "execution_count": 24,
   "metadata": {},
   "outputs": [
    {
     "name": "stdout",
     "output_type": "stream",
     "text": [
      "Found 9 images belonging to 23 classes.\n"
     ]
    }
   ],
   "source": [
    "small=datagen.flow_from_directory(\n",
    "        small_test_dir,\n",
    "        target_size=(224, 224),\n",
    "        batch_size=4,\n",
    "       class_mode='categorical')"
   ]
  },
  {
   "cell_type": "code",
   "execution_count": 11,
   "metadata": {
    "scrolled": true
   },
   "outputs": [],
   "source": [
    "from keras.models import load_model\n",
    "model = load_model('alexNet_model.hdf5')\n"
   ]
  },
  {
   "cell_type": "code",
   "execution_count": 25,
   "metadata": {
    "scrolled": true
   },
   "outputs": [],
   "source": [
    "small_accu=model.evaluate_generator(small,9)"
   ]
  },
  {
   "cell_type": "code",
   "execution_count": 26,
   "metadata": {},
   "outputs": [
    {
     "name": "stdout",
     "output_type": "stream",
     "text": [
      "Accuracy =  95.652174949646\n"
     ]
    }
   ],
   "source": [
    "print(\"Accuracy = \", small_accu[1]*100)"
   ]
  },
  {
   "cell_type": "code",
   "execution_count": 20,
   "metadata": {},
   "outputs": [
    {
     "name": "stdout",
     "output_type": "stream",
     "text": [
      "Accuracy =  [0.16092423763540056, 0.95652174949646]\n"
     ]
    }
   ],
   "source": [
    "print(\"Accuracy = \", small_accu)"
   ]
  },
  {
   "cell_type": "code",
   "execution_count": 28,
   "metadata": {},
   "outputs": [],
   "source": [
    "small2_accu=model.predict_generator(small,9)"
   ]
  },
  {
   "cell_type": "code",
   "execution_count": 29,
   "metadata": {},
   "outputs": [
    {
     "data": {
      "text/plain": [
       "array([[0.07209311, 0.02517702, 0.05759764, 0.05128996, 0.0573752 ,\n",
       "        0.03322944, 0.03008461, 0.00045361, 0.03902106, 0.05600887,\n",
       "        0.03437084, 0.01088195, 0.03665542, 0.02228352, 0.06234821,\n",
       "        0.13087623, 0.01853208, 0.00994488, 0.07431281, 0.0174412 ,\n",
       "        0.01650921, 0.02067587, 0.12283715],\n",
       "       [0.02483585, 0.02462143, 0.02541735, 0.12008319, 0.01821576,\n",
       "        0.01135749, 0.00870824, 0.00274485, 0.00952246, 0.03150262,\n",
       "        0.01394657, 0.00517545, 0.34642756, 0.01915795, 0.02411503,\n",
       "        0.10000824, 0.01106375, 0.06711287, 0.0418241 , 0.00703943,\n",
       "        0.01584114, 0.03617539, 0.03510339],\n",
       "       [0.06824267, 0.02165031, 0.05596528, 0.03784616, 0.05707651,\n",
       "        0.06875688, 0.02653984, 0.00496388, 0.12413204, 0.0724766 ,\n",
       "        0.07896826, 0.00631288, 0.0117633 , 0.0534607 , 0.07571019,\n",
       "        0.0308804 , 0.0129467 , 0.0218916 , 0.05529716, 0.02523788,\n",
       "        0.03256421, 0.02823246, 0.02908416],\n",
       "       [0.06888437, 0.01046024, 0.06032619, 0.06563268, 0.03197916,\n",
       "        0.0284155 , 0.06484955, 0.07575692, 0.00929509, 0.07266891,\n",
       "        0.075808  , 0.04102879, 0.03626418, 0.02764518, 0.04111624,\n",
       "        0.04842135, 0.038134  , 0.03815413, 0.03228224, 0.01898403,\n",
       "        0.05239327, 0.03727353, 0.02422648],\n",
       "       [0.07052156, 0.03325362, 0.05347703, 0.03426481, 0.04308513,\n",
       "        0.06118489, 0.03474492, 0.00291303, 0.05698374, 0.06619317,\n",
       "        0.02197475, 0.01870296, 0.03387766, 0.04435514, 0.06044732,\n",
       "        0.06187912, 0.01625917, 0.02846576, 0.04956761, 0.0905943 ,\n",
       "        0.02814355, 0.02436132, 0.06474942],\n",
       "       [0.06600571, 0.04840347, 0.09035768, 0.03311148, 0.09156139,\n",
       "        0.07803937, 0.03782594, 0.01355152, 0.03864899, 0.04792928,\n",
       "        0.08701919, 0.01177083, 0.02250944, 0.06000988, 0.06146379,\n",
       "        0.02938217, 0.01820491, 0.0134515 , 0.04651299, 0.03711846,\n",
       "        0.01743049, 0.02409637, 0.02559512],\n",
       "       [0.11037254, 0.02635992, 0.02790018, 0.03301473, 0.03039725,\n",
       "        0.0532161 , 0.03320524, 0.00144231, 0.15961918, 0.06064485,\n",
       "        0.0423335 , 0.00955776, 0.01504041, 0.03130723, 0.0647229 ,\n",
       "        0.04339848, 0.01874161, 0.02106067, 0.06331248, 0.02281718,\n",
       "        0.03687249, 0.0217887 , 0.07287433],\n",
       "       [0.04568883, 0.06347882, 0.05341787, 0.03884881, 0.10823197,\n",
       "        0.05732318, 0.02592775, 0.01917366, 0.08678913, 0.04875335,\n",
       "        0.07404556, 0.01942133, 0.01420393, 0.06663414, 0.04990087,\n",
       "        0.0341708 , 0.02126472, 0.01488376, 0.0603017 , 0.01586352,\n",
       "        0.03019961, 0.02286655, 0.02861015],\n",
       "       [0.10342616, 0.05343924, 0.0863625 , 0.02875338, 0.09936944,\n",
       "        0.07011539, 0.02131782, 0.00713604, 0.04357622, 0.0441103 ,\n",
       "        0.07000788, 0.00931   , 0.0150782 , 0.06172385, 0.05782785,\n",
       "        0.02193643, 0.01885679, 0.01411347, 0.06096778, 0.03020525,\n",
       "        0.02242078, 0.03105469, 0.02889052],\n",
       "       [0.06600571, 0.04840347, 0.09035768, 0.03311148, 0.09156139,\n",
       "        0.07803937, 0.03782594, 0.01355152, 0.03864899, 0.04792928,\n",
       "        0.08701919, 0.01177083, 0.02250944, 0.06000988, 0.06146379,\n",
       "        0.02938217, 0.01820491, 0.0134515 , 0.04651299, 0.03711846,\n",
       "        0.01743049, 0.02409637, 0.02559512],\n",
       "       [0.04568883, 0.06347882, 0.05341787, 0.03884881, 0.10823197,\n",
       "        0.05732318, 0.02592775, 0.01917366, 0.08678913, 0.04875335,\n",
       "        0.07404556, 0.01942133, 0.01420393, 0.06663414, 0.04990087,\n",
       "        0.0341708 , 0.02126472, 0.01488376, 0.0603017 , 0.01586352,\n",
       "        0.03019961, 0.02286655, 0.02861015],\n",
       "       [0.11037254, 0.02635992, 0.02790018, 0.03301473, 0.03039725,\n",
       "        0.0532161 , 0.03320524, 0.00144231, 0.15961918, 0.06064485,\n",
       "        0.0423335 , 0.00955776, 0.01504041, 0.03130723, 0.0647229 ,\n",
       "        0.04339848, 0.01874161, 0.02106067, 0.06331248, 0.02281718,\n",
       "        0.03687249, 0.0217887 , 0.07287433],\n",
       "       [0.07052156, 0.03325362, 0.05347703, 0.03426481, 0.04308513,\n",
       "        0.06118489, 0.03474492, 0.00291303, 0.05698374, 0.06619317,\n",
       "        0.02197475, 0.01870296, 0.03387766, 0.04435514, 0.06044732,\n",
       "        0.06187912, 0.01625917, 0.02846576, 0.04956761, 0.0905943 ,\n",
       "        0.02814355, 0.02436132, 0.06474942],\n",
       "       [0.06824267, 0.02165031, 0.05596528, 0.03784616, 0.05707651,\n",
       "        0.06875688, 0.02653984, 0.00496388, 0.12413204, 0.0724766 ,\n",
       "        0.07896826, 0.00631288, 0.0117633 , 0.0534607 , 0.07571019,\n",
       "        0.0308804 , 0.0129467 , 0.0218916 , 0.05529716, 0.02523788,\n",
       "        0.03256421, 0.02823246, 0.02908416],\n",
       "       [0.06888437, 0.01046024, 0.06032619, 0.06563268, 0.03197916,\n",
       "        0.0284155 , 0.06484955, 0.07575692, 0.00929509, 0.07266891,\n",
       "        0.075808  , 0.04102879, 0.03626418, 0.02764518, 0.04111624,\n",
       "        0.04842135, 0.038134  , 0.03815413, 0.03228224, 0.01898403,\n",
       "        0.05239327, 0.03727353, 0.02422648],\n",
       "       [0.10342616, 0.05343926, 0.0863625 , 0.02875339, 0.09936939,\n",
       "        0.0701154 , 0.02131783, 0.00713604, 0.0435762 , 0.0441103 ,\n",
       "        0.07000786, 0.00931001, 0.01507821, 0.06172385, 0.05782784,\n",
       "        0.02193643, 0.01885679, 0.01411346, 0.06096774, 0.03020526,\n",
       "        0.02242078, 0.03105469, 0.02889053],\n",
       "       [0.02483585, 0.02462143, 0.02541735, 0.12008319, 0.01821576,\n",
       "        0.01135749, 0.00870824, 0.00274485, 0.00952246, 0.03150262,\n",
       "        0.01394657, 0.00517545, 0.34642756, 0.01915795, 0.02411503,\n",
       "        0.10000824, 0.01106375, 0.06711287, 0.0418241 , 0.00703943,\n",
       "        0.01584114, 0.03617539, 0.03510339],\n",
       "       [0.07209315, 0.02517704, 0.05759764, 0.05128998, 0.05737518,\n",
       "        0.03322946, 0.0300846 , 0.00045361, 0.03902104, 0.05600888,\n",
       "        0.03437084, 0.01088195, 0.03665543, 0.02228351, 0.06234817,\n",
       "        0.13087624, 0.01853208, 0.00994489, 0.07431281, 0.01744121,\n",
       "        0.01650922, 0.02067589, 0.12283713],\n",
       "       [0.07209311, 0.02517702, 0.05759764, 0.05128996, 0.0573752 ,\n",
       "        0.03322944, 0.03008461, 0.00045361, 0.03902106, 0.05600887,\n",
       "        0.03437084, 0.01088195, 0.03665542, 0.02228352, 0.06234821,\n",
       "        0.13087623, 0.01853208, 0.00994488, 0.07431281, 0.0174412 ,\n",
       "        0.01650921, 0.02067587, 0.12283715],\n",
       "       [0.06888437, 0.01046024, 0.06032619, 0.06563268, 0.03197916,\n",
       "        0.0284155 , 0.06484955, 0.07575692, 0.00929509, 0.07266891,\n",
       "        0.075808  , 0.04102879, 0.03626418, 0.02764518, 0.04111624,\n",
       "        0.04842135, 0.038134  , 0.03815413, 0.03228224, 0.01898403,\n",
       "        0.05239327, 0.03727353, 0.02422648],\n",
       "       [0.06824267, 0.02165031, 0.05596528, 0.03784616, 0.05707651,\n",
       "        0.06875688, 0.02653984, 0.00496388, 0.12413204, 0.0724766 ,\n",
       "        0.07896826, 0.00631288, 0.0117633 , 0.0534607 , 0.07571019,\n",
       "        0.0308804 , 0.0129467 , 0.0218916 , 0.05529716, 0.02523788,\n",
       "        0.03256421, 0.02823246, 0.02908416],\n",
       "       [0.02483585, 0.02462143, 0.02541735, 0.12008319, 0.01821576,\n",
       "        0.01135749, 0.00870824, 0.00274485, 0.00952246, 0.03150262,\n",
       "        0.01394657, 0.00517545, 0.34642756, 0.01915795, 0.02411503,\n",
       "        0.10000824, 0.01106375, 0.06711287, 0.0418241 , 0.00703943,\n",
       "        0.01584114, 0.03617539, 0.03510339],\n",
       "       [0.04568883, 0.06347882, 0.05341787, 0.03884881, 0.10823197,\n",
       "        0.05732318, 0.02592775, 0.01917366, 0.08678913, 0.04875335,\n",
       "        0.07404556, 0.01942133, 0.01420393, 0.06663414, 0.04990087,\n",
       "        0.0341708 , 0.02126472, 0.01488376, 0.0603017 , 0.01586352,\n",
       "        0.03019961, 0.02286655, 0.02861015],\n",
       "       [0.10342616, 0.05343926, 0.0863625 , 0.02875339, 0.09936939,\n",
       "        0.0701154 , 0.02131783, 0.00713604, 0.0435762 , 0.0441103 ,\n",
       "        0.07000786, 0.00931001, 0.01507821, 0.06172385, 0.05782784,\n",
       "        0.02193643, 0.01885679, 0.01411346, 0.06096774, 0.03020526,\n",
       "        0.02242078, 0.03105469, 0.02889053],\n",
       "       [0.07052156, 0.03325362, 0.05347703, 0.03426481, 0.04308513,\n",
       "        0.06118489, 0.03474492, 0.00291303, 0.05698374, 0.06619317,\n",
       "        0.02197475, 0.01870296, 0.03387766, 0.04435514, 0.06044732,\n",
       "        0.06187912, 0.01625917, 0.02846576, 0.04956761, 0.0905943 ,\n",
       "        0.02814355, 0.02436132, 0.06474942],\n",
       "       [0.11037254, 0.02635992, 0.02790018, 0.03301473, 0.03039725,\n",
       "        0.0532161 , 0.03320524, 0.00144231, 0.15961918, 0.06064485,\n",
       "        0.0423335 , 0.00955776, 0.01504041, 0.03130723, 0.0647229 ,\n",
       "        0.04339848, 0.01874161, 0.02106067, 0.06331248, 0.02281718,\n",
       "        0.03687249, 0.0217887 , 0.07287433],\n",
       "       [0.06600572, 0.04840347, 0.09035764, 0.03311148, 0.09156139,\n",
       "        0.07803939, 0.03782594, 0.01355152, 0.03864897, 0.04792928,\n",
       "        0.08701923, 0.01177083, 0.02250943, 0.06000986, 0.06146379,\n",
       "        0.02938217, 0.01820491, 0.01345151, 0.04651299, 0.03711848,\n",
       "        0.0174305 , 0.02409638, 0.02559512]], dtype=float32)"
      ]
     },
     "execution_count": 29,
     "metadata": {},
     "output_type": "execute_result"
    }
   ],
   "source": [
    "small2_accu"
   ]
  },
  {
   "cell_type": "code",
   "execution_count": null,
   "metadata": {},
   "outputs": [],
   "source": []
  }
 ],
 "metadata": {
  "kernelspec": {
   "display_name": "Python [conda env:tensorflow]",
   "language": "python",
   "name": "conda-env-tensorflow-py"
  },
  "language_info": {
   "codemirror_mode": {
    "name": "ipython",
    "version": 3
   },
   "file_extension": ".py",
   "mimetype": "text/x-python",
   "name": "python",
   "nbconvert_exporter": "python",
   "pygments_lexer": "ipython3",
   "version": "3.5.3"
  }
 },
 "nbformat": 4,
 "nbformat_minor": 2
}
